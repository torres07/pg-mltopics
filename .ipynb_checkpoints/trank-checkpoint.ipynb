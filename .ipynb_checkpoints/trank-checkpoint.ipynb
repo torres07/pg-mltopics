{
 "cells": [
  {
   "cell_type": "code",
   "execution_count": 1,
   "metadata": {},
   "outputs": [
    {
     "name": "stderr",
     "output_type": "stream",
     "text": [
      "Using numpy backend.\n"
     ]
    }
   ],
   "source": [
    "import numpy as np\n",
    "import pandas as pd\n",
    "import tensorly as tl"
   ]
  },
  {
   "cell_type": "markdown",
   "metadata": {},
   "source": [
    "### Simple graph"
   ]
  },
  {
   "cell_type": "code",
   "execution_count": 2,
   "metadata": {},
   "outputs": [],
   "source": [
    "M_1 = np.array([\n",
    "    [0, 0, 0, 1, 1],\n",
    "    [0, 0, 0, 0, 0],\n",
    "    [0, 0, 0, 0, 0],\n",
    "    [1, 0, 0, 0, 0],\n",
    "    [1, 0, 0, 0, 0],\n",
    "])\n",
    "\n",
    "M_2 = np.array([\n",
    "    [0, 1, 0, 0, 0],\n",
    "    [0, 0, 1, 0, 0],\n",
    "    [0, 1, 0, 0, 0],\n",
    "    [0, 0, 1, 0, 0],\n",
    "    [0, 1, 1, 0, 0],\n",
    "])\n",
    "\n",
    "k, l, m = 5, 5, 2\n",
    "\n",
    "T = np.array([M_1, M_2], dtype=np.float32).reshape(m, k, l)\n",
    "\n",
    "ub = min(k * l, min(l * m, k * m))"
   ]
  },
  {
   "cell_type": "code",
   "execution_count": 3,
   "metadata": {
    "scrolled": true
   },
   "outputs": [
    {
     "data": {
      "text/plain": [
       "(array([[[0., 0., 0., 1., 1.],\n",
       "         [0., 0., 0., 0., 0.],\n",
       "         [0., 0., 0., 0., 0.],\n",
       "         [1., 0., 0., 0., 0.],\n",
       "         [1., 0., 0., 0., 0.]],\n",
       " \n",
       "        [[0., 1., 0., 0., 0.],\n",
       "         [0., 0., 1., 0., 0.],\n",
       "         [0., 1., 0., 0., 0.],\n",
       "         [0., 0., 1., 0., 0.],\n",
       "         [0., 1., 1., 0., 0.]]], dtype=float32), 10)"
      ]
     },
     "execution_count": 3,
     "metadata": {},
     "output_type": "execute_result"
    }
   ],
   "source": [
    "T, ub"
   ]
  },
  {
   "cell_type": "code",
   "execution_count": 133,
   "metadata": {
    "scrolled": false
   },
   "outputs": [],
   "source": [
    "from tensorly.decomposition import parafac\n",
    "\n",
    "X_parafac = parafac(T, rank=ub, n_iter_max=1000, verbose=False, random_state=7)\n",
    "# X_parafac = [np.around(i, decimals=4) for i in X_parafac]"
   ]
  },
  {
   "cell_type": "code",
   "execution_count": 135,
   "metadata": {
    "scrolled": true
   },
   "outputs": [
    {
     "data": {
      "text/plain": [
       "array([[[ 0.,  0., -0.,  1.,  1.],\n",
       "        [ 0., -0.,  0., -0., -0.],\n",
       "        [-0.,  0., -0.,  0.,  0.],\n",
       "        [ 1.,  0., -0.,  0.,  0.],\n",
       "        [ 1., -0.,  0., -0., -0.]],\n",
       "\n",
       "       [[ 0.,  1., -0., -0., -0.],\n",
       "        [ 0., -0.,  1., -0., -0.],\n",
       "        [-0.,  1., -0.,  0.,  0.],\n",
       "        [-0.,  0.,  1.,  0.,  0.],\n",
       "        [ 0.,  1.,  1., -0., -0.]]], dtype=float32)"
      ]
     },
     "execution_count": 135,
     "metadata": {},
     "output_type": "execute_result"
    }
   ],
   "source": [
    "np.round(tl.kruskal_to_tensor(X_parafac), decimals=2)"
   ]
  },
  {
   "cell_type": "code",
   "execution_count": 130,
   "metadata": {},
   "outputs": [],
   "source": [
    "X = tl.tensor(np.arange(24).reshape((3, 4, 2)), dtype=tl.float32)\n",
    "weights = parafac(X, rank=2)"
   ]
  },
  {
   "cell_type": "code",
   "execution_count": 112,
   "metadata": {
    "scrolled": false
   },
   "outputs": [
    {
     "name": "stdout",
     "output_type": "stream",
     "text": [
      "(2, 10)\n",
      "(5, 10)\n",
      "(5, 10)\n"
     ]
    }
   ],
   "source": [
    "print(X_parafac[0].shape) # U_3\n",
    "print(X_parafac[1].shape) # U_1\n",
    "print(X_parafac[2].shape) # U_2"
   ]
  },
  {
   "cell_type": "code",
   "execution_count": 114,
   "metadata": {},
   "outputs": [],
   "source": [
    "X_pseudo = np.zeros((5,5))"
   ]
  },
  {
   "cell_type": "code",
   "execution_count": 115,
   "metadata": {},
   "outputs": [
    {
     "data": {
      "text/plain": [
       "array([[0., 0., 0., 0., 0.],\n",
       "       [0., 0., 0., 0., 0.],\n",
       "       [0., 0., 0., 0., 0.],\n",
       "       [0., 0., 0., 0., 0.],\n",
       "       [0., 0., 0., 0., 0.]])"
      ]
     },
     "execution_count": 115,
     "metadata": {},
     "output_type": "execute_result"
    }
   ],
   "source": [
    "X_pseudo"
   ]
  },
  {
   "cell_type": "code",
   "execution_count": 118,
   "metadata": {},
   "outputs": [
    {
     "data": {
      "text/plain": [
       "(10,)"
      ]
     },
     "execution_count": 118,
     "metadata": {},
     "output_type": "execute_result"
    }
   ],
   "source": [
    "X_parafac[0][0].shape"
   ]
  },
  {
   "cell_type": "code",
   "execution_count": 117,
   "metadata": {},
   "outputs": [
    {
     "data": {
      "text/plain": [
       "(5, 10)"
      ]
     },
     "execution_count": 117,
     "metadata": {},
     "output_type": "execute_result"
    }
   ],
   "source": [
    "X_parafac[1].shape"
   ]
  },
  {
   "cell_type": "code",
   "execution_count": 119,
   "metadata": {},
   "outputs": [
    {
     "data": {
      "text/plain": [
       "(5, 10)"
      ]
     },
     "execution_count": 119,
     "metadata": {},
     "output_type": "execute_result"
    }
   ],
   "source": [
    "X_parafac[2].shape"
   ]
  },
  {
   "cell_type": "code",
   "execution_count": 124,
   "metadata": {},
   "outputs": [
    {
     "ename": "ValueError",
     "evalue": "operands could not be broadcast together with shapes (5,5) (25,10) (5,5) ",
     "output_type": "error",
     "traceback": [
      "\u001b[0;31m---------------------------------------------------------------------------\u001b[0m",
      "\u001b[0;31mValueError\u001b[0m                                Traceback (most recent call last)",
      "\u001b[0;32m<ipython-input-124-823e1345d681>\u001b[0m in \u001b[0;36m<module>\u001b[0;34m\u001b[0m\n\u001b[1;32m      1\u001b[0m \u001b[0;32mfor\u001b[0m \u001b[0mi\u001b[0m \u001b[0;32min\u001b[0m \u001b[0mrange\u001b[0m\u001b[0;34m(\u001b[0m\u001b[0;36m10\u001b[0m\u001b[0;34m)\u001b[0m\u001b[0;34m:\u001b[0m\u001b[0;34m\u001b[0m\u001b[0;34m\u001b[0m\u001b[0m\n\u001b[1;32m      2\u001b[0m \u001b[0;34m\u001b[0m\u001b[0m\n\u001b[0;32m----> 3\u001b[0;31m     \u001b[0mX_pseudo\u001b[0m \u001b[0;34m+=\u001b[0m \u001b[0mnp\u001b[0m\u001b[0;34m.\u001b[0m\u001b[0mouter\u001b[0m\u001b[0;34m(\u001b[0m\u001b[0mnp\u001b[0m\u001b[0;34m.\u001b[0m\u001b[0mouter\u001b[0m\u001b[0;34m(\u001b[0m\u001b[0mX_parafac\u001b[0m\u001b[0;34m[\u001b[0m\u001b[0;36m1\u001b[0m\u001b[0;34m]\u001b[0m\u001b[0;34m[\u001b[0m\u001b[0;34m:\u001b[0m\u001b[0;34m,\u001b[0m\u001b[0mi\u001b[0m\u001b[0;34m]\u001b[0m\u001b[0;34m,\u001b[0m \u001b[0mX_parafac\u001b[0m\u001b[0;34m[\u001b[0m\u001b[0;36m2\u001b[0m\u001b[0;34m]\u001b[0m\u001b[0;34m[\u001b[0m\u001b[0;34m:\u001b[0m\u001b[0;34m,\u001b[0m\u001b[0mi\u001b[0m\u001b[0;34m]\u001b[0m\u001b[0;34m)\u001b[0m\u001b[0;34m,\u001b[0m \u001b[0mX_parafac\u001b[0m\u001b[0;34m[\u001b[0m\u001b[0;36m0\u001b[0m\u001b[0;34m]\u001b[0m\u001b[0;34m[\u001b[0m\u001b[0;36m0\u001b[0m\u001b[0;34m]\u001b[0m\u001b[0;34m)\u001b[0m\u001b[0;34m\u001b[0m\u001b[0;34m\u001b[0m\u001b[0m\n\u001b[0m",
      "\u001b[0;31mValueError\u001b[0m: operands could not be broadcast together with shapes (5,5) (25,10) (5,5) "
     ]
    }
   ],
   "source": [
    "for i in range(10):\n",
    "    \n",
    "    X_pseudo += np.outer(np.outer(X_parafac[1][:,i], X_parafac[2][:,i]), X_parafac[0][0])"
   ]
  },
  {
   "cell_type": "code",
   "execution_count": 127,
   "metadata": {},
   "outputs": [
    {
     "data": {
      "text/plain": [
       "array([[-1690.4318   ,   290.58978  ,  -717.0786   ,  2600.0566   ,\n",
       "         2600.0566   ],\n",
       "       [  259.3817   ,   -44.588417 ,   110.029335 ,  -398.95557  ,\n",
       "         -398.95557  ],\n",
       "       [   37.78983  ,    -6.4961734,    16.030388 ,   -58.12462  ,\n",
       "          -58.12462  ],\n",
       "       [-1994.4413   ,   342.84982  ,  -846.03894  ,  3067.6543   ,\n",
       "         3067.6543   ],\n",
       "       [-1961.5204   ,   337.19064  ,  -832.074    ,  3017.0186   ,\n",
       "         3017.0186   ]], dtype=float32)"
      ]
     },
     "execution_count": 127,
     "metadata": {},
     "output_type": "execute_result"
    }
   ],
   "source": [
    "np.outer(X_parafac[1][:,0], X_parafac[2][:,0])"
   ]
  },
  {
   "cell_type": "code",
   "execution_count": 110,
   "metadata": {
    "scrolled": true
   },
   "outputs": [
    {
     "name": "stdout",
     "output_type": "stream",
     "text": [
      "[[ 0.0005  0.0021 -0.     -0.0013 -0.     -0.0016 -0.      0.      0.\n",
      "  -0.    ]\n",
      " [-0.0021 -0.0176 -0.      0.0053  0.0003  0.0119  0.     -0.0002 -0.\n",
      "  -0.    ]]\n",
      "[[ 2.7234280e+03  1.1687052e+12  2.3492977e+10 -0.0000000e+00\n",
      "  -3.5585715e+08 -5.8589265e+06 -3.7640880e+08 -4.7334167e+10\n",
      "   2.5276617e+04  7.3883850e+12]\n",
      " [-4.1788580e+02 -4.0054870e+10  1.1109711e+10 -9.9999997e-05\n",
      "   3.0489949e+08  1.2798463e+04  3.8588740e+07  5.6860467e+09\n",
      "  -4.0822393e+03  1.3760577e+12]\n",
      " [-6.0882599e+01  3.0034523e+11  2.9760270e+10 -3.0000001e-04\n",
      "   1.9441834e+08 -2.3924705e+05  6.4692998e+08 -6.0928942e+09\n",
      "  -6.2101577e+03  2.6301778e+12]\n",
      " [ 3.2132129e+03  1.4411935e+12  1.5829778e+10 -3.0000001e-04\n",
      "  -4.3930506e+08 -4.2420140e+06  1.6277587e+09 -6.5105310e+10\n",
      "   2.3049977e+04  5.8508569e+12]\n",
      " [ 3.1601746e+03  1.7411173e+12  4.5613138e+10 -6.0000003e-04\n",
      "  -2.4432296e+08 -4.4778670e+06  2.2791644e+09 -7.1383933e+10\n",
      "   1.6721408e+04  8.4827974e+12]]\n",
      "[[-6.2070000e-01 -0.0000000e+00  9.9999997e-05  2.6284870e+06\n",
      "   0.0000000e+00  3.0000001e-04 -1.4000000e-03 -0.0000000e+00\n",
      "   8.2976402e+01 -0.0000000e+00]\n",
      " [ 1.0670000e-01  0.0000000e+00 -0.0000000e+00 -9.3769894e+05\n",
      "  -0.0000000e+00 -9.9999997e-05 -9.9999997e-05 -0.0000000e+00\n",
      "  -1.7780000e-01  0.0000000e+00]\n",
      " [-2.6330000e-01 -0.0000000e+00  0.0000000e+00  9.7502881e+05\n",
      "   0.0000000e+00  9.9999997e-05 -1.9999999e-04  0.0000000e+00\n",
      "  -8.1964998e+00 -0.0000000e+00]\n",
      " [ 9.5469999e-01  0.0000000e+00 -0.0000000e+00 -2.4410500e+06\n",
      "  -0.0000000e+00 -1.9999999e-04  1.2000001e-03  0.0000000e+00\n",
      "  -7.5410004e+01 -0.0000000e+00]\n",
      " [ 9.5469999e-01  0.0000000e+00 -0.0000000e+00 -2.4410500e+06\n",
      "  -0.0000000e+00 -1.9999999e-04  1.2000001e-03  0.0000000e+00\n",
      "  -7.5410004e+01 -0.0000000e+00]]\n"
     ]
    }
   ],
   "source": [
    "print(X_parafac[0]) # U_3\n",
    "print(X_parafac[1]) # U_1\n",
    "print(X_parafac[2]) # U_2"
   ]
  },
  {
   "cell_type": "code",
   "execution_count": 98,
   "metadata": {},
   "outputs": [],
   "source": [
    "A = X_parafac[0][0].reshape(10, 1) # loves\n",
    "# B = X_parafac[1][0].reshape(10, 1) # alex, object\n",
    "B = X_parafac[1]"
   ]
  },
  {
   "cell_type": "code",
   "execution_count": 99,
   "metadata": {},
   "outputs": [
    {
     "data": {
      "text/plain": [
       "array([[-0.5273],\n",
       "       [-0.2313],\n",
       "       [-0.7117],\n",
       "       [-0.3123],\n",
       "       [-0.0139],\n",
       "       [ 0.2494],\n",
       "       [ 0.1337],\n",
       "       [-0.3189],\n",
       "       [-0.1234],\n",
       "       [-0.4133]], dtype=float32)"
      ]
     },
     "execution_count": 99,
     "metadata": {},
     "output_type": "execute_result"
    }
   ],
   "source": [
    "A"
   ]
  },
  {
   "cell_type": "code",
   "execution_count": 100,
   "metadata": {},
   "outputs": [
    {
     "data": {
      "text/plain": [
       "array([[-2.93900e+00,  1.88880e+00, -1.87500e-01, -1.71300e-01,\n",
       "         3.37480e+00,  7.74890e+00,  2.91043e+01,  2.00400e+00,\n",
       "         9.67790e+00, -1.42551e+01],\n",
       "       [ 9.85100e-01,  9.07000e-02,  1.02000e-02,  3.36000e-02,\n",
       "        -1.97620e+00,  5.95600e-01, -1.44160e+00,  2.21540e+00,\n",
       "        -3.02590e+00, -2.49990e+00],\n",
       "       [-4.71400e-01,  6.14600e-01, -4.30000e-03, -1.13000e-02,\n",
       "        -9.00400e-01,  7.25100e-01, -2.24200e-01,  8.04000e-02,\n",
       "         3.00000e-03, -2.34310e+00],\n",
       "       [-5.14000e-01,  2.99040e+00, -2.59800e-01, -1.37900e-01,\n",
       "        -2.43580e+00,  8.21130e+00,  3.47639e+01,  8.02820e+00,\n",
       "         6.72790e+00, -3.26800e-01],\n",
       "       [-1.26460e+00,  3.36130e+00, -2.38000e-01, -1.36700e-01,\n",
       "        -2.15410e+00,  8.73530e+00,  3.55226e+01,  7.23240e+00,\n",
       "         7.05710e+00, -9.12200e-01]], dtype=float32)"
      ]
     },
     "execution_count": 100,
     "metadata": {},
     "output_type": "execute_result"
    }
   ],
   "source": [
    "B"
   ]
  },
  {
   "cell_type": "code",
   "execution_count": 101,
   "metadata": {},
   "outputs": [
    {
     "ename": "ValueError",
     "evalue": "shapes (10,1) and (5,10) not aligned: 1 (dim 1) != 5 (dim 0)",
     "output_type": "error",
     "traceback": [
      "\u001b[0;31m---------------------------------------------------------------------------\u001b[0m",
      "\u001b[0;31mValueError\u001b[0m                                Traceback (most recent call last)",
      "\u001b[0;32m<ipython-input-101-cf50264cae03>\u001b[0m in \u001b[0;36m<module>\u001b[0;34m\u001b[0m\n\u001b[0;32m----> 1\u001b[0;31m \u001b[0mC\u001b[0m \u001b[0;34m=\u001b[0m \u001b[0mnp\u001b[0m\u001b[0;34m.\u001b[0m\u001b[0mdot\u001b[0m\u001b[0;34m(\u001b[0m\u001b[0mA\u001b[0m\u001b[0;34m,\u001b[0m \u001b[0mB\u001b[0m\u001b[0;34m)\u001b[0m\u001b[0;34m\u001b[0m\u001b[0;34m\u001b[0m\u001b[0m\n\u001b[0m\u001b[1;32m      2\u001b[0m \u001b[0mC\u001b[0m\u001b[0;34m\u001b[0m\u001b[0;34m\u001b[0m\u001b[0m\n",
      "\u001b[0;32m<__array_function__ internals>\u001b[0m in \u001b[0;36mdot\u001b[0;34m(*args, **kwargs)\u001b[0m\n",
      "\u001b[0;31mValueError\u001b[0m: shapes (10,1) and (5,10) not aligned: 1 (dim 1) != 5 (dim 0)"
     ]
    }
   ],
   "source": [
    "C = np.dot(A, B)\n",
    "C"
   ]
  },
  {
   "cell_type": "code",
   "execution_count": 53,
   "metadata": {},
   "outputs": [
    {
     "data": {
      "text/plain": [
       "array([[0., 0., 0., 0., 0.]], dtype=float32)"
      ]
     },
     "execution_count": 53,
     "metadata": {},
     "output_type": "execute_result"
    }
   ],
   "source": [
    "from sklearn.preprocessing import minmax_scale\n",
    "\n",
    "minmax_scale(C, feature_range=(0, 1))"
   ]
  },
  {
   "cell_type": "code",
   "execution_count": null,
   "metadata": {},
   "outputs": [],
   "source": [
    "X_parafac[0].T.shape"
   ]
  },
  {
   "cell_type": "code",
   "execution_count": null,
   "metadata": {},
   "outputs": [],
   "source": [
    "X_parafac[1]"
   ]
  },
  {
   "cell_type": "code",
   "execution_count": null,
   "metadata": {
    "scrolled": true
   },
   "outputs": [],
   "source": [
    "X_parafac[0]"
   ]
  },
  {
   "cell_type": "code",
   "execution_count": null,
   "metadata": {},
   "outputs": [],
   "source": [
    "A = X_parafac[0][0].reshape(1, 10) # loves\n",
    "A"
   ]
  },
  {
   "cell_type": "code",
   "execution_count": null,
   "metadata": {
    "scrolled": false
   },
   "outputs": [],
   "source": [
    "X_parafac[1][0] # alex object"
   ]
  },
  {
   "cell_type": "code",
   "execution_count": null,
   "metadata": {},
   "outputs": [],
   "source": [
    "B = X_parafac[1][0].reshape(1, 10).T # alex object.\n",
    "B"
   ]
  },
  {
   "cell_type": "code",
   "execution_count": null,
   "metadata": {},
   "outputs": [],
   "source": [
    "np.multiply(B, A)"
   ]
  },
  {
   "cell_type": "code",
   "execution_count": null,
   "metadata": {},
   "outputs": [],
   "source": [
    "X_parafac[2][0] # alex subject"
   ]
  },
  {
   "cell_type": "code",
   "execution_count": null,
   "metadata": {},
   "outputs": [],
   "source": [
    "np.multiply(X_parafac[0][0], X_parafac[1][0])"
   ]
  },
  {
   "cell_type": "code",
   "execution_count": null,
   "metadata": {
    "scrolled": false
   },
   "outputs": [],
   "source": [
    "print(X_parafac[0]) # U_3\n",
    "print(X_parafac[1]) # U_1\n",
    "print(X_parafac[2]) # U_2"
   ]
  },
  {
   "cell_type": "code",
   "execution_count": null,
   "metadata": {},
   "outputs": [],
   "source": [
    "[np.sum(i) for i in X_parafac[1]]"
   ]
  },
  {
   "cell_type": "code",
   "execution_count": null,
   "metadata": {},
   "outputs": [],
   "source": [
    "[np.sum(i) for i in X_parafac[2]]"
   ]
  },
  {
   "cell_type": "code",
   "execution_count": null,
   "metadata": {
    "scrolled": true
   },
   "outputs": [],
   "source": [
    "A = np.multiply(X_parafac[0][0], X_parafac[2])\n",
    "A"
   ]
  },
  {
   "cell_type": "code",
   "execution_count": null,
   "metadata": {},
   "outputs": [],
   "source": [
    "loves_p = np.sum(X_parafac[0][0])\n",
    "loves_p"
   ]
  },
  {
   "cell_type": "code",
   "execution_count": null,
   "metadata": {},
   "outputs": [],
   "source": [
    "objects = np.array([np.sum(i) for i in X_parafac[1]])\n",
    "objects"
   ]
  },
  {
   "cell_type": "code",
   "execution_count": null,
   "metadata": {},
   "outputs": [],
   "source": [
    "subjects = np.array([np.sum(i) for i in X_parafac[2]])\n",
    "subjects"
   ]
  },
  {
   "cell_type": "code",
   "execution_count": null,
   "metadata": {},
   "outputs": [],
   "source": [
    "objects * loves_p"
   ]
  },
  {
   "cell_type": "code",
   "execution_count": null,
   "metadata": {},
   "outputs": [],
   "source": [
    "subjects * loves_p"
   ]
  },
  {
   "cell_type": "code",
   "execution_count": null,
   "metadata": {},
   "outputs": [],
   "source": [
    "[np.sum(i) for i in A]"
   ]
  },
  {
   "cell_type": "code",
   "execution_count": null,
   "metadata": {},
   "outputs": [],
   "source": [
    "X_parafac[1] * X_parafac[2]"
   ]
  },
  {
   "cell_type": "code",
   "execution_count": null,
   "metadata": {},
   "outputs": [],
   "source": [
    "X_parafac[1] * X_parafac[2] * X_parafac[0][1]"
   ]
  },
  {
   "cell_type": "markdown",
   "metadata": {},
   "source": [
    "### Group 1 (loves)"
   ]
  },
  {
   "cell_type": "code",
   "execution_count": null,
   "metadata": {
    "scrolled": true
   },
   "outputs": [],
   "source": [
    "X_parafac[0][0] * X_parafac[1]"
   ]
  },
  {
   "cell_type": "code",
   "execution_count": null,
   "metadata": {},
   "outputs": [],
   "source": [
    "X_parafac[0][1] * X_parafac[1]"
   ]
  },
  {
   "cell_type": "markdown",
   "metadata": {},
   "source": [
    "### Group 2 (hates)"
   ]
  },
  {
   "cell_type": "code",
   "execution_count": null,
   "metadata": {
    "scrolled": true
   },
   "outputs": [],
   "source": [
    "np.round(X_parafac[0][0] * X_parafac[2], decimals=4)"
   ]
  },
  {
   "cell_type": "code",
   "execution_count": null,
   "metadata": {},
   "outputs": [],
   "source": [
    "np.around(X_parafac[0][1] * X_parafac[2], decimals=4)"
   ]
  },
  {
   "cell_type": "code",
   "execution_count": null,
   "metadata": {},
   "outputs": [],
   "source": []
  },
  {
   "cell_type": "code",
   "execution_count": null,
   "metadata": {},
   "outputs": [],
   "source": []
  },
  {
   "cell_type": "code",
   "execution_count": null,
   "metadata": {},
   "outputs": [],
   "source": []
  }
 ],
 "metadata": {
  "kernelspec": {
   "display_name": "Python 3",
   "language": "python",
   "name": "python3"
  },
  "language_info": {
   "codemirror_mode": {
    "name": "ipython",
    "version": 3
   },
   "file_extension": ".py",
   "mimetype": "text/x-python",
   "name": "python",
   "nbconvert_exporter": "python",
   "pygments_lexer": "ipython3",
   "version": "3.6.9"
  }
 },
 "nbformat": 4,
 "nbformat_minor": 2
}
