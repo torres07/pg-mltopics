{
 "cells": [
  {
   "cell_type": "code",
   "execution_count": 1,
   "metadata": {},
   "outputs": [],
   "source": [
    "import numpy as np\n",
    "import tensorly as tl\n",
    "import pandas as pd\n",
    "import pickle"
   ]
  },
  {
   "cell_type": "code",
   "execution_count": 2,
   "metadata": {
    "scrolled": false
   },
   "outputs": [
    {
     "data": {
      "text/html": [
       "<div>\n",
       "<style scoped>\n",
       "    .dataframe tbody tr th:only-of-type {\n",
       "        vertical-align: middle;\n",
       "    }\n",
       "\n",
       "    .dataframe tbody tr th {\n",
       "        vertical-align: top;\n",
       "    }\n",
       "\n",
       "    .dataframe thead th {\n",
       "        text-align: right;\n",
       "    }\n",
       "</style>\n",
       "<table border=\"1\" class=\"dataframe\">\n",
       "  <thead>\n",
       "    <tr style=\"text-align: right;\">\n",
       "      <th></th>\n",
       "      <th>subject</th>\n",
       "      <th>predicate</th>\n",
       "      <th>object</th>\n",
       "    </tr>\n",
       "  </thead>\n",
       "  <tbody>\n",
       "    <tr>\n",
       "      <td>0</td>\n",
       "      <td>\"http://dbpedia.org/resource/The_Beatles\"</td>\n",
       "      <td>\"http://www.w3.org/1999/02/22-rdf-syntax-ns#type\"</td>\n",
       "      <td>\"http://dbpedia.org/class/yago/Quartets\" ,</td>\n",
       "    </tr>\n",
       "    <tr>\n",
       "      <td>1</td>\n",
       "      <td>\"http://dbpedia.org/resource/The_Beatles\"</td>\n",
       "      <td>\"http://www.w3.org/1999/02/22-rdf-syntax-ns#type\"</td>\n",
       "      <td>\"http://sw.opencyc.org/2008/06/10/concept/Mx4r...</td>\n",
       "    </tr>\n",
       "    <tr>\n",
       "      <td>2</td>\n",
       "      <td>\"http://dbpedia.org/resource/The_Beatles\"</td>\n",
       "      <td>\"http://www.w3.org/1999/02/22-rdf-syntax-ns#type\"</td>\n",
       "      <td>\"http://sw.opencyc.org/2008/06/10/concept/Mx4r...</td>\n",
       "    </tr>\n",
       "    <tr>\n",
       "      <td>3</td>\n",
       "      <td>\"http://dbpedia.org/resource/The_Beatles\"</td>\n",
       "      <td>\"http://www.w3.org/1999/02/22-rdf-syntax-ns#type\"</td>\n",
       "      <td>\"http://dbpedia.org/ontology/MusicalArtist\" ,</td>\n",
       "    </tr>\n",
       "    <tr>\n",
       "      <td>4</td>\n",
       "      <td>\"http://dbpedia.org/resource/The_Beatles\"</td>\n",
       "      <td>\"http://www.w3.org/1999/02/22-rdf-syntax-ns#type\"</td>\n",
       "      <td>\"http://dbpedia.org/class/yago/MusicalGroupsEs...</td>\n",
       "    </tr>\n",
       "  </tbody>\n",
       "</table>\n",
       "</div>"
      ],
      "text/plain": [
       "                                     subject  \\\n",
       "0  \"http://dbpedia.org/resource/The_Beatles\"   \n",
       "1  \"http://dbpedia.org/resource/The_Beatles\"   \n",
       "2  \"http://dbpedia.org/resource/The_Beatles\"   \n",
       "3  \"http://dbpedia.org/resource/The_Beatles\"   \n",
       "4  \"http://dbpedia.org/resource/The_Beatles\"   \n",
       "\n",
       "                                           predicate  \\\n",
       "0  \"http://www.w3.org/1999/02/22-rdf-syntax-ns#type\"   \n",
       "1  \"http://www.w3.org/1999/02/22-rdf-syntax-ns#type\"   \n",
       "2  \"http://www.w3.org/1999/02/22-rdf-syntax-ns#type\"   \n",
       "3  \"http://www.w3.org/1999/02/22-rdf-syntax-ns#type\"   \n",
       "4  \"http://www.w3.org/1999/02/22-rdf-syntax-ns#type\"   \n",
       "\n",
       "                                              object  \n",
       "0         \"http://dbpedia.org/class/yago/Quartets\" ,  \n",
       "1  \"http://sw.opencyc.org/2008/06/10/concept/Mx4r...  \n",
       "2  \"http://sw.opencyc.org/2008/06/10/concept/Mx4r...  \n",
       "3      \"http://dbpedia.org/ontology/MusicalArtist\" ,  \n",
       "4  \"http://dbpedia.org/class/yago/MusicalGroupsEs...  "
      ]
     },
     "execution_count": 2,
     "metadata": {},
     "output_type": "execute_result"
    }
   ],
   "source": [
    "data_beatles = pd.read_csv('sbeatles.csv', delimiter=' , ', engine='python', names=['subject', 'predicate', 'object'], skiprows=1)\n",
    "data_beatles = data_beatles.dropna()\n",
    "data_beatles.head()"
   ]
  },
  {
   "cell_type": "code",
   "execution_count": 3,
   "metadata": {},
   "outputs": [
    {
     "data": {
      "text/html": [
       "<div>\n",
       "<style scoped>\n",
       "    .dataframe tbody tr th:only-of-type {\n",
       "        vertical-align: middle;\n",
       "    }\n",
       "\n",
       "    .dataframe tbody tr th {\n",
       "        vertical-align: top;\n",
       "    }\n",
       "\n",
       "    .dataframe thead th {\n",
       "        text-align: right;\n",
       "    }\n",
       "</style>\n",
       "<table border=\"1\" class=\"dataframe\">\n",
       "  <thead>\n",
       "    <tr style=\"text-align: right;\">\n",
       "      <th></th>\n",
       "      <th>subject</th>\n",
       "      <th>predicate</th>\n",
       "      <th>object</th>\n",
       "    </tr>\n",
       "  </thead>\n",
       "  <tbody>\n",
       "    <tr>\n",
       "      <td>count</td>\n",
       "      <td>4980</td>\n",
       "      <td>4980</td>\n",
       "      <td>4980</td>\n",
       "    </tr>\n",
       "    <tr>\n",
       "      <td>unique</td>\n",
       "      <td>1888</td>\n",
       "      <td>117</td>\n",
       "      <td>1388</td>\n",
       "    </tr>\n",
       "    <tr>\n",
       "      <td>top</td>\n",
       "      <td>\"http://dbpedia.org/resource/Eleanor_Rigby\"</td>\n",
       "      <td>\"http://dbpedia.org/property/wikilink\"</td>\n",
       "      <td>\"http://dbpedia.org/resource/The_Beatles\" ,</td>\n",
       "    </tr>\n",
       "    <tr>\n",
       "      <td>freq</td>\n",
       "      <td>269</td>\n",
       "      <td>1719</td>\n",
       "      <td>512</td>\n",
       "    </tr>\n",
       "  </tbody>\n",
       "</table>\n",
       "</div>"
      ],
      "text/plain": [
       "                                            subject  \\\n",
       "count                                          4980   \n",
       "unique                                         1888   \n",
       "top     \"http://dbpedia.org/resource/Eleanor_Rigby\"   \n",
       "freq                                            269   \n",
       "\n",
       "                                     predicate  \\\n",
       "count                                     4980   \n",
       "unique                                     117   \n",
       "top     \"http://dbpedia.org/property/wikilink\"   \n",
       "freq                                      1719   \n",
       "\n",
       "                                             object  \n",
       "count                                          4980  \n",
       "unique                                         1388  \n",
       "top     \"http://dbpedia.org/resource/The_Beatles\" ,  \n",
       "freq                                            512  "
      ]
     },
     "execution_count": 3,
     "metadata": {},
     "output_type": "execute_result"
    }
   ],
   "source": [
    "data_beatles.describe()"
   ]
  },
  {
   "cell_type": "markdown",
   "metadata": {},
   "source": [
    "### Load data"
   ]
  },
  {
   "cell_type": "code",
   "execution_count": 4,
   "metadata": {},
   "outputs": [],
   "source": [
    "subjects = list(data_beatles['subject'].unique())\n",
    "objects = list(data_beatles['object'].unique())\n",
    "predicates = list(data_beatles['predicate'].unique())\n",
    "\n",
    "k, l, m = len(subjects), len(objects), len(predicates)"
   ]
  },
  {
   "cell_type": "markdown",
   "metadata": {},
   "source": [
    "### Create Tensor"
   ]
  },
  {
   "cell_type": "raw",
   "metadata": {},
   "source": [
    "T = np.zeros(k * l * m, dtype=np.float32).reshape((k, l, m))\n",
    "\n",
    "predicates_freq = data_beatles['predicate'].value_counts()\n",
    "alpha = predicates_freq[predicates_freq.idxmax()]\n",
    "\n",
    "for _, r in data_beatles.iterrows():\n",
    "    i, j, k = subjects.index(r[0]), objects.index(r[2]), predicates.index(r[1])\n",
    "    T[i, j, k] = 1 + np.log(alpha / predicates_freq[r[1]])"
   ]
  },
  {
   "cell_type": "markdown",
   "metadata": {},
   "source": [
    "### Run PARAFAC decomposition"
   ]
  },
  {
   "cell_type": "raw",
   "metadata": {},
   "source": [
    "PARAFAC = parafac(T, rank=32, n_iter_max=512, verbose=True, normalize_factors=True)"
   ]
  },
  {
   "cell_type": "code",
   "execution_count": 5,
   "metadata": {},
   "outputs": [],
   "source": [
    "with open('pp_parafac_ub_32_norm.pkl', 'rb') as f:\n",
    "    D = pickle.load(f)"
   ]
  },
  {
   "cell_type": "code",
   "execution_count": 6,
   "metadata": {},
   "outputs": [
    {
     "name": "stdout",
     "output_type": "stream",
     "text": [
      "(1888, 32)\n",
      "(1388, 32)\n",
      "(117, 32)\n"
     ]
    }
   ],
   "source": [
    "print(D.factors[0].shape)\n",
    "print(D.factors[1].shape)\n",
    "print(D.factors[2].shape)"
   ]
  },
  {
   "cell_type": "markdown",
   "metadata": {},
   "source": [
    "### Results"
   ]
  },
  {
   "cell_type": "code",
   "execution_count": 7,
   "metadata": {
    "scrolled": true
   },
   "outputs": [
    {
     "data": {
      "text/plain": [
       "array([54.775482 , 44.512054 , 14.933094 , 46.87411  , 26.968466 ,\n",
       "       28.611624 , 30.647722 , 14.660114 , 16.07665  , 38.75045  ,\n",
       "       20.840467 , 28.131765 , 24.282003 , 34.122986 , 36.721058 ,\n",
       "       18.307045 , 14.850482 , 26.647234 , 11.118253 , 19.31693  ,\n",
       "       26.728004 , 24.534616 , 22.560652 , 15.482001 , 26.450056 ,\n",
       "       12.285444 , 28.17897  , 13.5755415, 14.107669 , 20.753212 ,\n",
       "       25.13338  , 18.264532 ], dtype=float32)"
      ]
     },
     "execution_count": 7,
     "metadata": {},
     "output_type": "execute_result"
    }
   ],
   "source": [
    "D.weights"
   ]
  },
  {
   "cell_type": "code",
   "execution_count": 8,
   "metadata": {},
   "outputs": [],
   "source": [
    "def get_top_predicates(pfi, predicates):\n",
    "    U_3 = np.absolute(D.factors[2][::,pfi])\n",
    "    top_predicates = np.where(U_3 >= 0.1)[0]\n",
    "    ans = [(p, predicates[p], U_3[p]) for p in top_predicates]\n",
    "    \n",
    "    return ans"
   ]
  },
  {
   "cell_type": "code",
   "execution_count": 9,
   "metadata": {},
   "outputs": [],
   "source": [
    "def get_top_resources(pfi, top_predicates):\n",
    "    U_1 = np.absolute(D.factors[0][::, pfi])\n",
    "    U_2 = np.absolute(D.factors[1][::, pfi])\n",
    "    \n",
    "    subs = np.array(subjects)\n",
    "    objs = np.array(objects)\n",
    "    resources = list()\n",
    "    ans = list()\n",
    "    \n",
    "    for i, _, U_3_i in top_predicates:\n",
    "        A = np.dot(U_3_i, U_1)\n",
    "        B = np.dot(U_3_i, U_2)\n",
    "        \n",
    "        Aarg = A.argsort()[::-1]\n",
    "#         print('Subjects: ')\n",
    "        for i in Aarg[:5]:\n",
    "            if A[i] >= 0.0001 and (subs[i] not in resources):\n",
    "                resources.append(subs[i])\n",
    "                ans.append((subs[i], A[i]))\n",
    "#                 print((subs[i], A[i]))\n",
    "        \n",
    "        Barg = B.argsort()[::-1]\n",
    "        \n",
    "#         print('Objects: ')\n",
    "        for i in Barg[:5]:\n",
    "            if B[i] >= 0.0001 and (objs[i] not in resources):\n",
    "                resources.append(objs[i])\n",
    "                ans.append((objs[i], B[i]))\n",
    "#                 print((objs[i], B[i]))\n",
    "        \n",
    "    sans = np.array(sorted(ans, key=lambda x: x[1])[::-1])\n",
    "    print(sans)"
   ]
  },
  {
   "cell_type": "markdown",
   "metadata": {},
   "source": [
    "### Group pfn"
   ]
  },
  {
   "cell_type": "code",
   "execution_count": 10,
   "metadata": {
    "scrolled": false
   },
   "outputs": [
    {
     "name": "stdout",
     "output_type": "stream",
     "text": [
      "[(53, '\"http://dbpedia.org/ontology/writer\"', 0.7301684), (54, '\"http://dbpedia.org/property/writer\"', 0.6568003), (86, '\"http://dbpedia.org/ontology/composer\"', 0.1259725), (87, '\"http://dbpedia.org/property/composer\"', 0.1259725)]\n",
      "[['\"http://dbpedia.org/resource/Lennon/McCartney\" ,' '0.72913355']\n",
      " ['\"http://dbpedia.org/resource/You%27ve_Got_to_Hide_Your_Love_Away\"'\n",
      "  '0.2868187']\n",
      " ['\"http://dbpedia.org/resource/Little_Child\"' '0.22933038']\n",
      " ['\"http://dbpedia.org/resource/I%27m_Looking_Through_You\"' '0.22931483']\n",
      " ['\"http://dbpedia.org/resource/I%27ll_Get_You\"' '0.2292629']\n",
      " ['\"http://dbpedia.org/resource/If_You%27ve_Got_Trouble\"' '0.22924736']\n",
      " ['\"http://dbpedia.org/resource/Lennon-McCartney\" ,' '0.037581086']\n",
      " ['\"http://dbpedia.org/resource/Allmusic\" ,' '0.0017926617']\n",
      " ['\"http://dbpedia.org/resource/Abbey_Road_Studios\" ,' '0.0011203188']\n",
      " ['\"http://dbpedia.org/resource/John_Lennon\" ,' '0.0010605354']]\n"
     ]
    }
   ],
   "source": [
    "# 8\n",
    "pfn = 24\n",
    "pf0 = get_top_predicates(pfn, predicates)\n",
    "print(pf0)\n",
    "get_top_resources(pfn, pf0)"
   ]
  }
 ],
 "metadata": {
  "kernelspec": {
   "display_name": "Python 3",
   "language": "python",
   "name": "python3"
  },
  "language_info": {
   "codemirror_mode": {
    "name": "ipython",
    "version": 3
   },
   "file_extension": ".py",
   "mimetype": "text/x-python",
   "name": "python",
   "nbconvert_exporter": "python",
   "pygments_lexer": "ipython3",
   "version": "3.6.8"
  }
 },
 "nbformat": 4,
 "nbformat_minor": 2
}
